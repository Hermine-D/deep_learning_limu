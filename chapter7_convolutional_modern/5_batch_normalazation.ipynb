{
 "cells": [
  {
   "cell_type": "code",
   "execution_count": 1,
   "metadata": {
    "collapsed": true
   },
   "outputs": [],
   "source": [
    "import torch\n",
    "from torch import nn\n",
    "from d2l import torch as d2l\n",
    "\n",
    "def batch_norm(X,gamma,beta,moving_mean,moving_var,eps,momentum):\n",
    "    '''\n",
    "\n",
    "    :param X: 输入\n",
    "    :param gamma:可学习的参数\n",
    "    :param beta: 可学习的参数\n",
    "    :param moving_mean: 全局的均值\n",
    "    :param moving_var: 全局的方差\n",
    "    :param eps:\n",
    "    :param momentum:通常取0.9\n",
    "    :return:\n",
    "    '''\n",
    "    # 推理的时候用全局的均值和方差\n",
    "    # 训练的时候用批量的均值和方差\n",
    "    if not torch.is_grad_enabled():\n",
    "        # 不算梯度表示在做inference（推理，推论）\n",
    "        X_hat = (X-moving_mean) / torch.sqrt(moving_var + eps)\n",
    "    else:\n",
    "        # 做训练\n",
    "        # 如果有两个维度（样本数，特征），表示在全连接层\n",
    "        # 如果有四个维度（样本数，通道，高，宽），表示在卷积层\n",
    "        assert len(X.shape) in (2,4)\n",
    "        if len(X.shape) == 2:\n",
    "            # 实际上是求所有样本中每一个特征的均值和方差\n",
    "            # 对每一列求均值\n",
    "            mean = X.mean(dim = 0)\n",
    "            var = ((X - mean) ** 2).mean(dim = 0)\n",
    "        else:\n",
    "            # 0:批量大小 1:通道数 2:高 3:宽\n",
    "            # 求出来是(1,n,1,1)的维度\n",
    "            mean = X.mean(dim = (0,2,3),kerrpdim = True)\n",
    "            var = ((X - mean)**2).mean(dim = (0,2,3),keepdim = True)\n",
    "        X_hat = (X - mean)/torch.sqrt(var+eps)\n",
    "        # 更新全局的均值和方差\n",
    "        moving_mean = momentum*moving_mean + (1.0-momentum)*mean\n",
    "        moving_var - momentum*moving_var + (1.0-momentum)*var\n",
    "    Y = gamma*X_hat+beta\n",
    "    return Y,moving_mean.data,moving_var.data"
   ]
  },
  {
   "cell_type": "code",
   "execution_count": 2,
   "outputs": [],
   "source": [
    "class BatchNorm(nn.Module):\n",
    "    def __init__(self,num_features,num_dims):\n",
    "        super().__init__()\n",
    "        if num_dims == 2:\n",
    "            shape = (1,num_features)\n",
    "        else:\n",
    "            shape = (1,num_features,1,1)\n",
    "\n",
    "        self.gamma = nn.Parameter(torch.ones(shape))\n",
    "        self.beta = nn.Parameter(torch.zeros(shape))\n",
    "        self.moving_mean = torch.zeros(shape)\n",
    "        self.moving_var = torch.ones(shape)\n",
    "\n",
    "    def forward(self,X):\n",
    "        if self.moving_mean.device != X.device:\n",
    "            self.moving_mean = self.moving_mean.to(X.device)\n",
    "            self.moving_var = self.moving_var.to(X.device)\n",
    "\n",
    "        Y,self.moving_mean,self.moving_var = batch_norm(\n",
    "            X,self.gamma,self.beta,self.moving_mean,self.moving_var,eps = 1e-5,momentum=0.9\n",
    "        )\n",
    "        return Y"
   ],
   "metadata": {
    "collapsed": false
   }
  },
  {
   "cell_type": "code",
   "execution_count": 3,
   "outputs": [],
   "source": [
    "# 将BN运用于LeNet\n",
    "net = nn.Sequential(\n",
    "    nn.Conv2d(1,6,kernel_size=5),BatchNorm(6,num_dims=4),nn.Sigmoid(),\n",
    "    nn.MaxPool2d(kernel_size=2,stride=2),\n",
    "    nn.Conv2d(6,16,kernel_size=5),BatchNorm(16,num_dims=4),nn.Sigmoid(),\n",
    "    nn.MaxPool2d(kernel_size=2,stride=2),\n",
    "    nn.Flatten(),nn.Linear(16*4*4,120),BatchNorm(120,num_dims=2),nn.Sigmoid(),\n",
    "    nn.Linear(120,84),BatchNorm(84,num_dims=2),nn.Sigmoid(),\n",
    "    nn.Linear(84,10)\n",
    ")"
   ],
   "metadata": {
    "collapsed": false
   }
  },
  {
   "cell_type": "code",
   "execution_count": null,
   "outputs": [],
   "source": [
    "lr,num_epochs,batch_size = 1.0,10,256\n",
    "train_iter,test_iter = d2l.load_data_fashion_mnist(batch_size)\n",
    "d2l.train_ch6(net,train_iter,test_iter,num_epochs,lr,d2l.try_gpu())"
   ],
   "metadata": {
    "collapsed": false
   }
  },
  {
   "cell_type": "code",
   "execution_count": null,
   "outputs": [],
   "source": [
    "net[1].gamma.reshape((-1,)),net[1].beta.reshape((-1,)),"
   ],
   "metadata": {
    "collapsed": false
   }
  }
 ],
 "metadata": {
  "kernelspec": {
   "display_name": "Python 3",
   "language": "python",
   "name": "python3"
  },
  "language_info": {
   "codemirror_mode": {
    "name": "ipython",
    "version": 2
   },
   "file_extension": ".py",
   "mimetype": "text/x-python",
   "name": "python",
   "nbconvert_exporter": "python",
   "pygments_lexer": "ipython2",
   "version": "2.7.6"
  }
 },
 "nbformat": 4,
 "nbformat_minor": 0
}
