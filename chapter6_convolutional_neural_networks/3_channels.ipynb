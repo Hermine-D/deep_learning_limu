{
 "cells": [
  {
   "cell_type": "code",
   "execution_count": 24,
   "metadata": {
    "collapsed": true
   },
   "outputs": [
    {
     "data": {
      "text/plain": "tensor([[ 56.,  72.],\n        [104., 120.]])"
     },
     "execution_count": 24,
     "metadata": {},
     "output_type": "execute_result"
    }
   ],
   "source": [
    "import torch\n",
    "from d2l import torch as d2l\n",
    "\n",
    "def corr2d_multi_in(X,K):\n",
    "    # zip:对最外层的做遍历\n",
    "    # print(list(zip(X,K)))\n",
    "    return sum(d2l.corr2d(x,k) for x,k in zip(X,K))\n",
    "\n",
    "# X:(2,3,3) K:(2,2,2) Y:(2,2)\n",
    "X = torch.tensor([[[0.0,1,2],[3,4,5],[6,7,8]],\n",
    "                  [[1,2,3],[4,5,6],[7,8,9]]])\n",
    "K = torch.tensor([[[0.0,1],[2.0,3]],[[1,2],[3,4]]])\n",
    "corr2d_multi_in(X,K)"
   ]
  },
  {
   "cell_type": "code",
   "execution_count": 25,
   "outputs": [
    {
     "data": {
      "text/plain": "torch.Size([3, 2, 2, 2])"
     },
     "execution_count": 25,
     "metadata": {},
     "output_type": "execute_result"
    }
   ],
   "source": [
    "def corr2d_multi_in_out(X,K):\n",
    "    '''\n",
    "\n",
    "    :param X:维度是(2,3,3)\n",
    "    :param K: 维度是(3,2,2,2)\n",
    "    :return: 维度是(3,2,2)\n",
    "    '''\n",
    "    return torch.stack([corr2d_multi_in(X,k) for k in K],0)\n",
    "\n",
    "# 按照维度0拼接k,k+1,k+2\n",
    "# K由(2,2,2)变成(3,2,2,2)\n",
    "K = torch.stack((K,K+1,K+2),0)\n",
    "K.shape"
   ],
   "metadata": {
    "collapsed": false
   }
  },
  {
   "cell_type": "code",
   "execution_count": 26,
   "outputs": [
    {
     "data": {
      "text/plain": "tensor([[[ 56.,  72.],\n         [104., 120.]],\n\n        [[ 76., 100.],\n         [148., 172.]],\n\n        [[ 96., 128.],\n         [192., 224.]]])"
     },
     "execution_count": 26,
     "metadata": {},
     "output_type": "execute_result"
    }
   ],
   "source": [
    "corr2d_multi_in_out(X,K)"
   ],
   "metadata": {
    "collapsed": false
   }
  },
  {
   "cell_type": "code",
   "execution_count": 29,
   "outputs": [
    {
     "data": {
      "text/plain": "True"
     },
     "execution_count": 29,
     "metadata": {},
     "output_type": "execute_result"
    }
   ],
   "source": [
    "# 1x1卷积\n",
    "def corr2d_multi_in_out_1x1(X,K):\n",
    "    '''\n",
    "    1x1的卷积核\n",
    "    :param X:(通道数，图片高，图片宽)\n",
    "    :param K:(卷积核个数，通道数，1，1)\n",
    "    :return: Y:(卷积核个数，图片高，图片宽)\n",
    "    '''\n",
    "    c_i,h,w = X.shape\n",
    "    # 有几个卷积核就是几维的输出\n",
    "    c_o = K.shape[0]\n",
    "    # 把一个通道拉成向量\n",
    "    X = X.reshape((c_i,h*w))\n",
    "    # 丢掉1x1部分\n",
    "    K = K.reshape((c_o,c_i))\n",
    "    Y = torch.matmul(K,X)\n",
    "    return Y.reshape((c_o,h,w))\n",
    "\n",
    "X = torch.normal(0,1,(3,3,3))\n",
    "K = torch.normal(0,1,(2,3,1,1))\n",
    "\n",
    "Y1 = corr2d_multi_in_out_1x1(X,K)\n",
    "Y2 = corr2d_multi_in_out(X,K)\n",
    "float(torch.abs(Y1-Y2).sum()) < 1e-6"
   ],
   "metadata": {
    "collapsed": false
   }
  },
  {
   "cell_type": "code",
   "execution_count": null,
   "outputs": [],
   "source": [],
   "metadata": {
    "collapsed": false
   }
  }
 ],
 "metadata": {
  "kernelspec": {
   "display_name": "Python 3",
   "language": "python",
   "name": "python3"
  },
  "language_info": {
   "codemirror_mode": {
    "name": "ipython",
    "version": 2
   },
   "file_extension": ".py",
   "mimetype": "text/x-python",
   "name": "python",
   "nbconvert_exporter": "python",
   "pygments_lexer": "ipython2",
   "version": "2.7.6"
  }
 },
 "nbformat": 4,
 "nbformat_minor": 0
}
