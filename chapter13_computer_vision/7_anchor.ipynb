{
 "cells": [
  {
   "cell_type": "markdown",
   "source": [
    "# 锚框"
   ],
   "metadata": {
    "collapsed": false
   }
  },
  {
   "cell_type": "code",
   "execution_count": 1,
   "outputs": [],
   "source": [
    "# 以每个像素为中心，生成多个缩放比和宽高比（aspect ratio）不同的边界框。 这些边界框被称为锚框（anchor box）\n",
    "%matplotlib inline\n",
    "import torch\n",
    "from d2l import torch as d2l\n",
    "\n",
    "# 精简输出精度\n",
    "# 设置输出精度为小数点后两位\n",
    "torch.set_printoptions(2)"
   ],
   "metadata": {
    "collapsed": false
   }
  },
  {
   "cell_type": "code",
   "execution_count": null,
   "outputs": [],
   "source": [
    "def multibox_prior(data,sizes,ratios):\n",
    "    '''\n",
    "    生成以每个像素为中心具有不同形状的锚框\n",
    "    :param data:\n",
    "    :param sizes:\n",
    "    :param ratios:\n",
    "    :return:\n",
    "    '''\n",
    "    # 图片高和宽是倒数两列\n",
    "    in_height,in_width = data.shape[-2:]\n",
    "    device,num_sizes,num_ratios = data.device,len(sizes),len(ratios)\n",
    "    # 给s1分配所有r，其他的s分配r1\n",
    "    boxes_per_pixel = (num_sizes + num_ratios -1)\n",
    "    size_tensor = torch.tensor(sizes,device=device)\n",
    "    ratio_tensor = torch.tensor(ratios,device=device)\n",
    "\n",
    "    # 为了将锚点移动到像素的中心，需要设置偏移量。\n",
    "    # 因为一个像素的高为1且宽为1，我们选择偏移我们的中心0.5\n",
    "    offset_h,offset_w = 0.5,0.5\n",
    "    steps_h = 1.0/in_height\n",
    "    steps_w = 1.0/in_width\n",
    "\n",
    "    center_h = (torch.arange(in_height,device=device)+offset_h)\n",
    "    center_w = (torch.arange(in_width,device=device)+offset_w)\n",
    "    shift_y,shift_x = torch.meshgrid(center_h,center_w)\n",
    "    shift_y,shift_x = shift_y.reshape(-1),shift_x.reshape(-1)\n",
    "\n",
    "    "
   ],
   "metadata": {
    "collapsed": false
   }
  }
 ],
 "metadata": {
  "kernelspec": {
   "display_name": "Python 3",
   "language": "python",
   "name": "python3"
  },
  "language_info": {
   "codemirror_mode": {
    "name": "ipython",
    "version": 2
   },
   "file_extension": ".py",
   "mimetype": "text/x-python",
   "name": "python",
   "nbconvert_exporter": "python",
   "pygments_lexer": "ipython2",
   "version": "2.7.6"
  }
 },
 "nbformat": 4,
 "nbformat_minor": 0
}
