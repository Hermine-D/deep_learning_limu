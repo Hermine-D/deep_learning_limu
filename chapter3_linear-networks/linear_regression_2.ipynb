{
 "cells": [
  {
   "cell_type": "code",
   "execution_count": 2,
   "id": "5adf4beb",
   "metadata": {},
   "outputs": [],
   "source": [
    "import numpy as np\n",
    "import torch\n",
    "from torch.utils import data\n",
    "from d2l import torch as d2l\n",
    "\n",
    "true_w = torch.tensor([2,-3.4])\n",
    "true_b = 4.2\n",
    "# synthetic_data：随机生成1000个数据\n",
    "features,labels = d2l.synthetic_data(true_w,true_b,1000)"
   ]
  },
  {
   "cell_type": "code",
   "execution_count": 3,
   "id": "886d9e84",
   "metadata": {},
   "outputs": [],
   "source": [
    "def load_array(data_arrays,batch_size,is_train=True):\n",
    "    '''构造一个PyTorch的数据迭代器'''\n",
    "    # TensorDataset将张量类型转换为Dataset\n",
    "    dataset = data.TensorDataset(*data_arrays)\n",
    "    # DataLoader类似于之前写的data_iter函数，每次读取dataset中的一小批量数据\n",
    "    return data.DataLoader(dataset,batch_size,shuffle=is_train)"
   ]
  },
  {
   "cell_type": "code",
   "execution_count": 4,
   "id": "9fae1f3b",
   "metadata": {},
   "outputs": [
    {
     "data": {
      "text/plain": [
       "[tensor([[-0.9936,  1.5109],\n",
       "         [-0.8544, -0.3812],\n",
       "         [-0.2628, -0.3568],\n",
       "         [ 0.5846, -0.7779],\n",
       "         [ 0.2053, -1.6882],\n",
       "         [-0.8047, -0.7629],\n",
       "         [-1.3688, -0.1943],\n",
       "         [ 0.5789, -0.6519],\n",
       "         [ 1.2926, -0.0694],\n",
       "         [ 1.3214, -1.5396]]),\n",
       " tensor([[-2.9278],\n",
       "         [ 3.7923],\n",
       "         [ 4.8906],\n",
       "         [ 8.0286],\n",
       "         [10.3371],\n",
       "         [ 5.2012],\n",
       "         [ 2.1185],\n",
       "         [ 7.5735],\n",
       "         [ 7.0283],\n",
       "         [12.0805]])]"
      ]
     },
     "execution_count": 4,
     "metadata": {},
     "output_type": "execute_result"
    }
   ],
   "source": [
    "batch_size = 10\n",
    "data_iter = load_array((features,labels),batch_size)\n",
    "\n",
    "next(iter(data_iter))"
   ]
  },
  {
   "cell_type": "code",
   "execution_count": 5,
   "id": "5972a80f",
   "metadata": {},
   "outputs": [],
   "source": [
    "# nn是神经网络的缩写\n",
    "from torch import nn\n",
    "\n",
    "# 输入维度是2，输出维度是1\n",
    "net = nn.Sequential(nn.Linear(2,1))"
   ]
  },
  {
   "cell_type": "code",
   "execution_count": 6,
   "id": "d5d14a29",
   "metadata": {},
   "outputs": [
    {
     "data": {
      "text/plain": [
       "tensor([0.])"
      ]
     },
     "execution_count": 6,
     "metadata": {},
     "output_type": "execute_result"
    }
   ],
   "source": [
    "# 初始化参数w和b\n",
    "net[0].weight.data.normal_(0,0.01)\n",
    "net[0].bias.data.fill_(0)"
   ]
  },
  {
   "cell_type": "code",
   "execution_count": 8,
   "id": "4698da5f",
   "metadata": {},
   "outputs": [],
   "source": [
    "# 定义损失的计算方法，类似于之前编写的squared_loss\n",
    "loss = nn.MSELoss()"
   ]
  },
  {
   "cell_type": "code",
   "execution_count": 9,
   "id": "1e982ba2",
   "metadata": {},
   "outputs": [],
   "source": [
    "# net.parameters()包括了w和b\n",
    "trainer = torch.optim.SGD(net.parameters(),lr = 0.03)"
   ]
  },
  {
   "cell_type": "code",
   "execution_count": 14,
   "id": "b897cda8",
   "metadata": {},
   "outputs": [
    {
     "name": "stdout",
     "output_type": "stream",
     "text": [
      "epoch1,loss0.000098\n",
      "epoch2,loss0.000098\n",
      "epoch3,loss0.000099\n"
     ]
    }
   ],
   "source": [
    "# 训练模块\n",
    "num_epochs = 3\n",
    "for epoch in range(num_epochs):\n",
    "    for X,y in data_iter:\n",
    "        # 给net一个输入X，并计算误差\n",
    "        l = loss(net(X),y)\n",
    "        # 先把梯度清0\n",
    "        trainer.zero_grad()\n",
    "        l.backward()\n",
    "        #模型更新\n",
    "        trainer.step()\n",
    "    l = loss(net(features),labels)\n",
    "    print(f'epoch{epoch+1},loss{l:f}')"
   ]
  },
  {
   "cell_type": "code",
   "execution_count": null,
   "id": "cd86d3f7",
   "metadata": {},
   "outputs": [],
   "source": []
  }
 ],
 "metadata": {
  "kernelspec": {
   "display_name": "Python 3 (ipykernel)",
   "language": "python",
   "name": "python3"
  },
  "language_info": {
   "codemirror_mode": {
    "name": "ipython",
    "version": 3
   },
   "file_extension": ".py",
   "mimetype": "text/x-python",
   "name": "python",
   "nbconvert_exporter": "python",
   "pygments_lexer": "ipython3",
   "version": "3.9.13"
  }
 },
 "nbformat": 4,
 "nbformat_minor": 5
}
